{
 "cells": [
  {
   "cell_type": "markdown",
   "metadata": {},
   "source": [
    "## Initialization\n",
    "First, import the packages and initialize things we plan to use"
   ]
  },
  {
   "cell_type": "code",
   "execution_count": 5,
   "metadata": {},
   "outputs": [
    {
     "name": "stderr",
     "output_type": "stream",
     "text": [
      "Using TensorFlow backend.\n"
     ]
    }
   ],
   "source": [
    "# Import packages\n",
    "import keras,sklearn\n",
    "import keras.backend as kb\n",
    "import tensorflow as tf\n",
    "\n",
    "import numpy as np\n",
    "import matplotlib.pyplot as plt\n",
    "import matplotlib as mpl\n",
    "%matplotlib inline\n",
    "\n",
    "import pylab as pl\n",
    "from scipy import stats, math, interpolate\n",
    "from scipy import optimize\n",
    "from scipy.interpolate import CubicSpline\n",
    "\n",
    "import random\n",
    "\n",
    "import sys\n",
    "\n",
    "#import complex ode solver for Sch. Equation\n",
    "#from odeintw import odeintw\n",
    "import odeintw as oiw\n",
    "# Set seed\n",
    "seed=0\n",
    "np.random.seed(seed) # fix random seed\n",
    "tf.random.set_seed(seed)\n",
    "\n"
   ]
  },
  {
   "cell_type": "markdown",
   "metadata": {},
   "source": [
    "## Define functions to create the dataset\n",
    "Here, we create some functions that make generating greatly varying datasets easy to do"
   ]
  },
  {
   "cell_type": "code",
   "execution_count": 184,
   "metadata": {},
   "outputs": [],
   "source": [
    "def calcPerfData(Bx, By, Bz, psi0, tvec):\n",
    "    # Determine number of steps\n",
    "    steps = len(tvec)\n",
    "    \n",
    "    # Declare pauli matrices\n",
    "    sigmax = np.zeros([2,2],dtype='complex')\n",
    "    sigmay = np.zeros([2,2],dtype='complex')\n",
    "    sigmaz = np.zeros([2,2],dtype='complex')\n",
    "\n",
    "    sigmax[0,1] = 1.0\n",
    "    sigmax[1,0] = 1.0\n",
    "\n",
    "    sigmaz[0,0] = 1.0\n",
    "    sigmaz[1,1] = -1.0\n",
    "\n",
    "    sigmay[0,1] = -1.0*1j\n",
    "    sigmay[1,0] = 1.0*1j\n",
    "    \n",
    "    # Declare states to project to\n",
    "    psix = np.zeros([2,1],dtype='complex')\n",
    "    psiy = np.zeros([2,1],dtype='complex')\n",
    "    psiz = np.zeros([2,1],dtype='complex')\n",
    "\n",
    "    psix[0] = 1/np.sqrt(2)\n",
    "    psix[1] = 1/np.sqrt(2)\n",
    "\n",
    "    psiy[0] = 1/np.sqrt(2)\n",
    "    psiy[1] = 1j/np.sqrt(2)\n",
    "\n",
    "    psiz[0] = 1\n",
    "    psiz[1] = 0\n",
    "    \n",
    "    # Create the derivative as -i*H, Hamiltonian\n",
    "    def evolve(psi,t):\n",
    "        dpsi =  -1j * np.dot( Bx(t)*sigmax + By(t)*sigmay + Bz(t)*sigmaz, psi)\n",
    "        return dpsi\n",
    "    \n",
    "    # Integrate to get the solution\n",
    "    psi0use       = np.reshape(np.transpose(psi0),2)\n",
    "    solution      = np.zeros([steps,2],dtype='complex')\n",
    "    solution[:,:] = oiw.odeintw(evolve,psi0use,tspace)\n",
    "    \n",
    "    # Initialize the output\n",
    "    probabilities = np.zeros([steps,3])\n",
    "    \n",
    "    # Get the probabilities by dotting the solution (a stepsx2) into the states (a 2x1) for each operator\n",
    "    probabilities[:,0] = np.square(np.abs(np.dot(np.conj(solution), psix))).reshape(steps)\n",
    "    probabilities[:,1] = np.square(np.abs(np.dot(np.conj(solution), psiy))).reshape(steps)\n",
    "    probabilities[:,2] = np.square(np.abs(np.dot(np.conj(solution), psiz))).reshape(steps)\n",
    "    \n",
    "    expectations = 2*probabilities-1\n",
    "    return probabilities, expectations\n",
    "\n",
    "\n",
    "\n",
    "\n",
    "\n",
    "def calcNoisyData(probabilities, Nmeas, meanNorm, stdNorm):\n",
    "    if Nmeas > 0:\n",
    "        expectNoisy = 2*np.random.binomial(Nmeas, probabilities)/Nmeas - 1\n",
    "    else:\n",
    "        expectNoisy = 2*probabilities - 1\n",
    "        \n",
    "    expectNoisy = expectNoisy + stdNorm*np.random.randn(np.shape(probabilities)[0],3) + meanNorm\n",
    "    return expectNoisy\n",
    "\n",
    "\n",
    "\n",
    "\n",
    "\n",
    "def createDataSet(Ndata, Bx, By, Bz, psi0mat, tspace, noiseData, noiseLabel=np.array([0,0,0])):\n",
    "    # Get Parameters and such\n",
    "    #Ndata = np.shape(psi0mat)[1] # Psi0 is always a 2xN\n",
    "    steps = len(tspace)\n",
    "    \n",
    "    NmeasLabl  = noiseLabel[0]\n",
    "    meanLabl   = noiseLabel[1]\n",
    "    stdLabl    = noiseLabel[2]\n",
    "    \n",
    "    NmeasData  = noiseData[0]\n",
    "    meanData   = noiseData[1]\n",
    "    stdData    = noiseData[2]\n",
    "    \n",
    "    # Initialize output\n",
    "    dataMat    = np.zeros((Ndata, steps, 3))\n",
    "    lablMat    = np.zeros((Ndata, steps, 3))\n",
    "    \n",
    "    # Loop over running ODE solver\n",
    "    for i in range(Ndata):\n",
    "        # Solve the ODE and get results\n",
    "        probabilities, expectations = calcPerfData(Bx, By, Bz, psi0mat, tspace)\n",
    "        \n",
    "        # Add noise to the data and labels and insert into output\n",
    "        dataMat[i,:,:]  = calcNoisyData(probabilities, NmeasData, meanData, stdData)\n",
    "        lablMat[i,:,:]  = calcNoisyData(probabilities, NmeasLabl, meanLabl, stdLabl)\n",
    "        \n",
    "    return dataMat, lablMat\n",
    "\n",
    "        \n",
    "    \n",
    "\n",
    "    \n",
    "        "
   ]
  },
  {
   "cell_type": "markdown",
   "metadata": {},
   "source": [
    "## Generate data set\n",
    "Next, generate a data set by integrating the Schrodinger equation and adding noise to get high noise inputs and low noise/noise free labels"
   ]
  },
  {
   "cell_type": "code",
   "execution_count": 239,
   "metadata": {},
   "outputs": [
    {
     "name": "stdout",
     "output_type": "stream",
     "text": [
      "[[1.+0.j]\n",
      " [0.+0.j]]\n"
     ]
    }
   ],
   "source": [
    "# stuff for dataset here\n",
    "## Input parameters\n",
    "\n",
    "Ntrain = 30             # Number of datapoints\n",
    "Ntest  = 10\n",
    "steps  = 1000  # Number of time steps\n",
    "\n",
    "T = 10           # Total time of simulation\n",
    "tspace = np.linspace(0,T,steps)\n",
    "\n",
    "noiseDataUse = np.array([0,0,.1])   # N_sim_measurement, noiseMean, noiseStddev.\n",
    "noiseLablUse = np.array([0,0,0])      # N_sim_measurement, noiseMean, noiseStddev.\n",
    "\n",
    "\n",
    "# Define the fields as functions of time\n",
    "def Bx(t):\n",
    "    return 2*math.pi/(4*3)*np.sin(2*np.pi/5*t)\n",
    "def By(t):\n",
    "    return 2*math.pi/(4*3)*np.cos(2*np.pi/5*t)\n",
    "def Bz(t):\n",
    "    return 0\n",
    "\n",
    "psi0mat = np.ones([2,1],dtype='complex')\n",
    "psi0mat[1,:] = np.zeros([1,1],dtype='complex')\n",
    "#intial wavefunction declaration\n",
    "#psi0mat = np.zeros((2,N),dtype='complex')\n",
    "#for i in range(N):    \n",
    "#    psi0mat[0,i] = np.random.normal(scale=1)\n",
    "#    psi0mat[1,i] = np.random.normal(scale=1)\n",
    "#    psi0mat[:,i] = psi0mat[:,i]/np.linalg.norm(psi0mat[:,i])\n",
    "\n",
    "print(psi0mat)\n",
    "\n",
    "dataMatTrn, lablMatTrn = createDataSet(Ntrain, Bx, By, Bz, psi0mat, tspace, noiseData=noiseDataUse, noiseLabel=noiseLablUse )\n",
    "dataMatTst, lablMatTst = createDataSet(Ntest,  Bx, By, Bz, psi0mat, tspace, noiseData=noiseDataUse, noiseLabel=noiseLablUse )\n"
   ]
  },
  {
   "cell_type": "code",
   "execution_count": 240,
   "metadata": {},
   "outputs": [
    {
     "data": {
      "text/plain": [
       "[<matplotlib.lines.Line2D at 0x204eb2c4cf8>]"
      ]
     },
     "execution_count": 240,
     "metadata": {},
     "output_type": "execute_result"
    },
    {
     "data": {
      "image/png": "[encoded data removed]",
      "text/plain": [
       "<Figure size 432x288 with 1 Axes>"
      ]
     },
     "metadata": {
      "needs_background": "light"
     },
     "output_type": "display_data"
    }
   ],
   "source": [
    "plt.plot(tspace, dataMatTrn[0,:,0])\n",
    "plt.plot(tspace, dataMatTrn[0,:,1])\n",
    "plt.plot(tspace, dataMatTrn[0,:,2])\n",
    "\n",
    "plt.plot(tspace, lablMatTrn[0,:,0])\n",
    "plt.plot(tspace, lablMatTrn[0,:,1])\n",
    "plt.plot(tspace, lablMatTrn[0,:,2])\n"
   ]
  },
  {
   "cell_type": "markdown",
   "metadata": {},
   "source": [
    "## Preprocess data\n",
    "shape as necessary, divide into test and train, etc."
   ]
  },
  {
   "cell_type": "code",
   "execution_count": 6,
   "metadata": {},
   "outputs": [],
   "source": [
    "#stuff for processing data"
   ]
  },
  {
   "cell_type": "markdown",
   "metadata": {},
   "source": [
    "## Define the model\n",
    "Now, define the model architecture"
   ]
  },
  {
   "cell_type": "code",
   "execution_count": 7,
   "metadata": {},
   "outputs": [],
   "source": [
    "# stuff for defining the model"
   ]
  },
  {
   "cell_type": "markdown",
   "metadata": {},
   "source": [
    "## Compile the model\n",
    "Set the loss function and optimizer and compile the model"
   ]
  },
  {
   "cell_type": "code",
   "execution_count": 8,
   "metadata": {},
   "outputs": [],
   "source": [
    "# stuff for compiling model"
   ]
  },
  {
   "cell_type": "markdown",
   "metadata": {},
   "source": [
    "## Train the Model\n",
    "Input the training parameters and watch it train"
   ]
  },
  {
   "cell_type": "code",
   "execution_count": 9,
   "metadata": {},
   "outputs": [],
   "source": [
    "# Stuff for training the model"
   ]
  },
  {
   "cell_type": "markdown",
   "metadata": {},
   "source": [
    "## Evaluate the model\n",
    "Evaluate the model on test data and look at some output results"
   ]
  },
  {
   "cell_type": "code",
   "execution_count": null,
   "metadata": {},
   "outputs": [],
   "source": []
  }
 ],
 "metadata": {
  "kernelspec": {
   "display_name": "Python 3",
   "language": "python",
   "name": "python3"
  },
  "language_info": {
   "codemirror_mode": {
    "name": "ipython",
    "version": 3
   },
   "file_extension": ".py",
   "mimetype": "text/x-python",
   "name": "python",
   "nbconvert_exporter": "python",
   "pygments_lexer": "ipython3",
   "version": "3.6.9"
  }
 },
 "nbformat": 4,
 "nbformat_minor": 2
}
